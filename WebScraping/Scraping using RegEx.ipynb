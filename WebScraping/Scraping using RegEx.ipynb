{
 "cells": [
  {
   "cell_type": "markdown",
   "metadata": {},
   "source": [
    "# Scraping Website Title"
   ]
  },
  {
   "cell_type": "code",
   "execution_count": 1,
   "metadata": {},
   "outputs": [],
   "source": [
    "import re\n",
    "import requests"
   ]
  },
  {
   "cell_type": "code",
   "execution_count": 2,
   "metadata": {},
   "outputs": [
    {
     "name": "stdout",
     "output_type": "stream",
     "text": [
      "hey go away!\n"
     ]
    }
   ],
   "source": [
    "url = \"https://prathwik.fun\"\n",
    "pattern = r\"<title>(.*)</title>\"\n",
    "\n",
    "response = requests.get(url)\n",
    "\n",
    "matches = re.findall(pattern, response.text)\n",
    "for match in matches:\n",
    "    print(match)"
   ]
  },
  {
   "cell_type": "markdown",
   "metadata": {},
   "source": [
    "# Scraping Image links"
   ]
  },
  {
   "cell_type": "code",
   "execution_count": 3,
   "metadata": {},
   "outputs": [
    {
     "name": "stdout",
     "output_type": "stream",
     "text": [
      "https://github.githubassets.com/images/modules/site/home-campaign/hero-bg.webp\n",
      "https://github.githubassets.com/images/modules/site/home-campaign/lines-hero.svg\n",
      "https://github.githubassets.com/images/modules/site/eyebrow-banner-icon-copilot-x.svg\n",
      "https://github.githubassets.com/images/modules/site/home-campaign/logos/stripe.svg\n",
      "https://github.githubassets.com/images/modules/site/home-campaign/logos/pinterest.svg\n",
      "https://github.githubassets.com/images/modules/site/home-campaign/logos/kpmg.svg\n",
      "https://github.githubassets.com/images/modules/site/home-campaign/logos/mercedes.svg\n",
      "https://github.githubassets.com/images/modules/site/home-campaign/logos/pg.svg\n",
      "https://github.githubassets.com/images/modules/site/home-campaign/logos/telus.svg\n",
      "https://github.githubassets.com/images/modules/site/home/globe.jpg\n",
      "https://github.githubassets.com/images/modules/site/home-campaign/bg-stars-1.webp\n",
      "https://github.githubassets.com/images/modules/site/home-campaign/git-branch-productivity.svg\n",
      "https://github.githubassets.com/images/modules/site/codespaces/illo-context-menu.png\n",
      "https://github.githubassets.com/images/modules/site/codespaces/illo-cursor.png\n",
      "https://github.githubassets.com/images/modules/site/codespaces/illo-ports.png\n",
      "https://github.githubassets.com/images/modules/site/home-campaign/illu-actions.png\n",
      "https://github.githubassets.com/images/modules/site/home-campaign/illu-mobile.png\n",
      "https://github.githubassets.com/images/modules/site/issues/illo/issues-plan.png\n",
      "https://github.githubassets.com/images/modules/site/home-campaign/bg-stars-1.webp\n",
      "https://github.githubassets.com/images/modules/site/home-campaign/git-branch-collaboration.svg\n",
      "https://github.githubassets.com/images/modules/site/home-campaign/illu-projects.png\n",
      "https://github.githubassets.com/images/modules/site/home-campaign/illu-discussions.png\n",
      "https://github.githubassets.com/images/modules/site/home-campaign/illu-pull-requests.png\n",
      "https://github.githubassets.com/images/modules/site/home-campaign/sponsors/chaynhq.png\n",
      "https://github.githubassets.com/images/modules/site/home-campaign/sponsors/commandpost.png\n",
      "https://github.githubassets.com/images/modules/site/home-campaign/sponsors/sindresorhus.jpeg\n",
      "https://github.githubassets.com/images/modules/site/home-campaign/sponsors/yyx990803.jpeg\n",
      "https://github.githubassets.com/images/modules/site/home-campaign/sponsors/prophen.jpeg\n",
      "https://github.githubassets.com/images/modules/site/home-campaign/sponsors/imolorhe.jpeg\n",
      "https://github.githubassets.com/images/modules/site/home-campaign/sponsors/directus.png\n",
      "https://github.githubassets.com/images/modules/site/home-campaign/sponsors/dayhaysoos.jpeg\n",
      "https://github.githubassets.com/images/modules/site/home-campaign/sponsors/kazupon.jpeg\n",
      "https://github.githubassets.com/images/modules/site/home-campaign/bg-stars-1.webp\n",
      "https://github.githubassets.com/images/modules/site/home-campaign/git-branch-security.svg\n",
      "https://github.githubassets.com/images/modules/site/home-campaign/illu-ghas-list.png\n",
      "https://github.githubassets.com/images/modules/site/home-campaign/illu-secret-scanning.png\n",
      "https://github.githubassets.com/images/modules/site/home-campaign/illu-dependabot.png\n",
      "https://github.githubassets.com/images/modules/site/home-campaign/illu-code-scanning.png\n",
      "https://github.githubassets.com/images/modules/site/home-campaign/footer-galaxy.jpg\n",
      "https://github.githubassets.com/images/modules/site/home-campaign/astrocat.png\n",
      "https://github.githubassets.com/images/modules/site/icons/footer/twitter.svg\n",
      "https://github.githubassets.com/images/modules/site/icons/footer/facebook.svg\n",
      "https://github.githubassets.com/images/modules/site/icons/footer/linkedin.svg\n",
      "https://github.githubassets.com/images/modules/site/icons/footer/youtube.svg\n",
      "https://github.githubassets.com/images/modules/site/icons/footer/twitch.svg\n",
      "https://github.githubassets.com/images/modules/site/icons/footer/tiktok.svg\n",
      "https://github.githubassets.com/images/modules/site/icons/footer/github-mark.svg\n"
     ]
    }
   ],
   "source": [
    "url = \"https://github.com\"\n",
    "pattern = r'<img.+src=\"([^\"]+)'\n",
    "\n",
    "response = requests.get(url)\n",
    "\n",
    "matches = re.findall(pattern, response.text)\n",
    "for match in matches:\n",
    "    print(match)"
   ]
  },
  {
   "cell_type": "code",
   "execution_count": null,
   "metadata": {},
   "outputs": [],
   "source": []
  }
 ],
 "metadata": {
  "kernelspec": {
   "display_name": "web_scraping",
   "language": "python",
   "name": "python3"
  },
  "language_info": {
   "codemirror_mode": {
    "name": "ipython",
    "version": 3
   },
   "file_extension": ".py",
   "mimetype": "text/x-python",
   "name": "python",
   "nbconvert_exporter": "python",
   "pygments_lexer": "ipython3",
   "version": "3.10.11"
  },
  "orig_nbformat": 4
 },
 "nbformat": 4,
 "nbformat_minor": 2
}
