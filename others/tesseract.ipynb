{
 "cells": [
  {
   "cell_type": "code",
   "execution_count": 1,
   "metadata": {},
   "outputs": [],
   "source": [
    "import requests  # We use get requests\n",
    "from PIL import Image  # Python Imaging Library\n",
    "import pytesseract\n",
    "from io import BytesIO  # to store the image data as byte file"
   ]
  },
  {
   "cell_type": "code",
   "execution_count": 2,
   "metadata": {},
   "outputs": [
    {
     "data": {
      "text/plain": [
       "'“IF YOUR\\nDREAMS\\nDONT\\nSCARE YOU,\\nTHEY ARE\\nTOO SMALL\"\\n\\n- Richard Branson\\n'"
      ]
     },
     "execution_count": 2,
     "metadata": {},
     "output_type": "execute_result"
    }
   ],
   "source": [
    "# Fetch the image from the website\n",
    "url = \"https://m.media-amazon.com/images/I/51smFMY97PS._SY879_.jpg\"\n",
    "response = requests.get(url)\n",
    "image = Image.open(BytesIO(response.content))\n",
    "\n",
    "# Preprocess the image\n",
    "image = image.convert(\"L\")\n",
    "\n",
    "# Extract text using pytesseract\n",
    "text = pytesseract.image_to_string(image)\n",
    "\n",
    "text"
   ]
  }
 ],
 "metadata": {
  "kernelspec": {
   "display_name": "aml",
   "language": "python",
   "name": "python3"
  },
  "language_info": {
   "codemirror_mode": {
    "name": "ipython",
    "version": 3
   },
   "file_extension": ".py",
   "mimetype": "text/x-python",
   "name": "python",
   "nbconvert_exporter": "python",
   "pygments_lexer": "ipython3",
   "version": "3.10.11"
  },
  "orig_nbformat": 4
 },
 "nbformat": 4,
 "nbformat_minor": 2
}
