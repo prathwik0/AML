{
 "cells": [
  {
   "cell_type": "code",
   "execution_count": 12,
   "id": "ad96be11",
   "metadata": {},
   "outputs": [],
   "source": [
    "# Load all the dependencies\n",
    "from sklearn.datasets import load_iris #dataset\n",
    "from sklearn.model_selection import train_test_split\n",
    "from sklearn.preprocessing import StandardScaler #Feature scaling\n",
    "from sklearn.decomposition import PCA # for dimensionality reduction\n",
    "import joblib # Lightweight pipelines\n",
    "from sklearn.pipeline import Pipeline # Sklearn import for pipeline\n",
    "from sklearn.neighbors import KNeighborsClassifier\n",
    "from sklearn.tree import DecisionTreeClassifier"
   ]
  },
  {
   "cell_type": "code",
   "execution_count": 13,
   "id": "d7eb734e",
   "metadata": {},
   "outputs": [],
   "source": [
    "# Read the dataset\n",
    "df = load_iris()"
   ]
  },
  {
   "cell_type": "code",
   "execution_count": 14,
   "id": "5199e531",
   "metadata": {},
   "outputs": [],
   "source": [
    "# df.data"
   ]
  },
  {
   "cell_type": "code",
   "execution_count": 15,
   "id": "0946c29f",
   "metadata": {},
   "outputs": [
    {
     "data": {
      "text/plain": [
       "array([0, 0, 0, 0, 0, 0, 0, 0, 0, 0, 0, 0, 0, 0, 0, 0, 0, 0, 0, 0, 0, 0,\n",
       "       0, 0, 0, 0, 0, 0, 0, 0, 0, 0, 0, 0, 0, 0, 0, 0, 0, 0, 0, 0, 0, 0,\n",
       "       0, 0, 0, 0, 0, 0, 1, 1, 1, 1, 1, 1, 1, 1, 1, 1, 1, 1, 1, 1, 1, 1,\n",
       "       1, 1, 1, 1, 1, 1, 1, 1, 1, 1, 1, 1, 1, 1, 1, 1, 1, 1, 1, 1, 1, 1,\n",
       "       1, 1, 1, 1, 1, 1, 1, 1, 1, 1, 1, 1, 2, 2, 2, 2, 2, 2, 2, 2, 2, 2,\n",
       "       2, 2, 2, 2, 2, 2, 2, 2, 2, 2, 2, 2, 2, 2, 2, 2, 2, 2, 2, 2, 2, 2,\n",
       "       2, 2, 2, 2, 2, 2, 2, 2, 2, 2, 2, 2, 2, 2, 2, 2, 2, 2])"
      ]
     },
     "execution_count": 15,
     "metadata": {},
     "output_type": "execute_result"
    }
   ],
   "source": [
    "df.target"
   ]
  },
  {
   "cell_type": "code",
   "execution_count": 16,
   "id": "9eed1b4a",
   "metadata": {},
   "outputs": [],
   "source": [
    "X_train, X_test, y_train, y_test = train_test_split(df.data, df.target, test_size = 0.2, random_state=42 )"
   ]
  },
  {
   "cell_type": "code",
   "execution_count": 17,
   "id": "c15e3fde",
   "metadata": {},
   "outputs": [],
   "source": [
    "# Creation of Pipeline\n",
    "## Tasks in pipeline\n",
    "# 1. Data preprocessing using Standardizer\n",
    "# 2. reduce dimension using PCA\n",
    "# 3. Apply classification"
   ]
  },
  {
   "cell_type": "code",
   "execution_count": 19,
   "id": "fdcdacac",
   "metadata": {},
   "outputs": [],
   "source": [
    "from sklearn.preprocessing import StandardScaler"
   ]
  },
  {
   "cell_type": "code",
   "execution_count": 21,
   "id": "9c07acb3",
   "metadata": {},
   "outputs": [],
   "source": [
    "# 1st classification algorithm (KNN)\n",
    "pipeline_knn = Pipeline([('scalar1', StandardScaler()),\n",
    "                        ('pca1', PCA(n_components=2)),\n",
    "                        ('knn_classifier', KNeighborsClassifier())])"
   ]
  },
  {
   "cell_type": "code",
   "execution_count": 24,
   "id": "14f440c8",
   "metadata": {},
   "outputs": [],
   "source": [
    "# 1st classification algorithm (Decision Tree)\n",
    "pipeline_dt = Pipeline([('scalar2', StandardScaler()),\n",
    "                        ('pca2', PCA(n_components=2)),\n",
    "                        ('dt_classifier', DecisionTreeClassifier())])"
   ]
  },
  {
   "cell_type": "code",
   "execution_count": 25,
   "id": "6da43091",
   "metadata": {},
   "outputs": [],
   "source": [
    "# Create the pipeline\n",
    "pipelines = [pipeline_knn, pipeline_dt] # list"
   ]
  },
  {
   "cell_type": "code",
   "execution_count": 26,
   "id": "85deebf9",
   "metadata": {},
   "outputs": [],
   "source": [
    "#initialize the variables\n",
    "best_accuracy = 0.0\n",
    "best_classifier = 0\n",
    "best_pipeline = \"\""
   ]
  },
  {
   "cell_type": "code",
   "execution_count": 27,
   "id": "77ea9818",
   "metadata": {},
   "outputs": [],
   "source": [
    "# Dictionary of pipelines and classifier types for ease of reference\n",
    "pipe_dict={0: 'KNN', 1:\"Decision Tree\"}"
   ]
  },
  {
   "cell_type": "code",
   "execution_count": 28,
   "id": "5323d50c",
   "metadata": {},
   "outputs": [],
   "source": [
    "# Fit the pipeline\n",
    "for pipe in pipelines:\n",
    "    pipe.fit(X_train, y_train) # Training"
   ]
  },
  {
   "cell_type": "code",
   "execution_count": 29,
   "id": "84ecc241",
   "metadata": {},
   "outputs": [
    {
     "name": "stdout",
     "output_type": "stream",
     "text": [
      "KNN Test Accuracy: 0.9\n",
      "Decision Tree Test Accuracy: 0.9333333333333333\n"
     ]
    }
   ],
   "source": [
    "for i, model in enumerate(pipelines):\n",
    "    print(\"{} Test Accuracy: {}\".format(pipe_dict[i], model.score(X_test, y_test)))\n"
   ]
  },
  {
   "cell_type": "code",
   "execution_count": null,
   "id": "7198399b",
   "metadata": {},
   "outputs": [],
   "source": []
  }
 ],
 "metadata": {
  "kernelspec": {
   "display_name": "Python 3 (ipykernel)",
   "language": "python",
   "name": "python3"
  },
  "language_info": {
   "codemirror_mode": {
    "name": "ipython",
    "version": 3
   },
   "file_extension": ".py",
   "mimetype": "text/x-python",
   "name": "python",
   "nbconvert_exporter": "python",
   "pygments_lexer": "ipython3",
   "version": "3.9.16"
  }
 },
 "nbformat": 4,
 "nbformat_minor": 5
}
