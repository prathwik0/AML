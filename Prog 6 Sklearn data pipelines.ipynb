{
 "cells": [
  {
   "cell_type": "code",
   "execution_count": 12,
   "id": "b0d00ebd",
   "metadata": {},
   "outputs": [],
   "source": [
    "# Load all the dependencies\n",
    "from sklearn.datasets import load_iris #dataset\n",
    "from sklearn.model_selection import train_test_split\n",
    "from sklearn.preprocessing import StandardScaler #Feature scaling\n",
    "from sklearn.decomposition import PCA # for dimensionality reduction\n",
    "import joblib # Lightweight pipelines\n",
    "from sklearn.pipeline import Pipeline # Sklearn import for pipeline\n",
    "from sklearn.neighbors import KNeighborsClassifier\n",
    "from sklearn.tree import DecisionTreeClassifier"
   ]
  },
  {
   "cell_type": "code",
   "execution_count": 13,
   "id": "57ee9c41",
   "metadata": {},
   "outputs": [],
   "source": [
    "# Read the dataset\n",
    "df = load_iris()"
   ]
  },
  {
   "cell_type": "code",
   "execution_count": 14,
   "id": "ca4d3224",
   "metadata": {},
   "outputs": [],
   "source": [
    "# df.data"
   ]
  },
  {
   "cell_type": "code",
   "execution_count": 15,
   "id": "2d2d1907",
   "metadata": {},
   "outputs": [
    {
     "data": {
      "text/plain": [
       "array([0, 0, 0, 0, 0, 0, 0, 0, 0, 0, 0, 0, 0, 0, 0, 0, 0, 0, 0, 0, 0, 0,\n",
       "       0, 0, 0, 0, 0, 0, 0, 0, 0, 0, 0, 0, 0, 0, 0, 0, 0, 0, 0, 0, 0, 0,\n",
       "       0, 0, 0, 0, 0, 0, 1, 1, 1, 1, 1, 1, 1, 1, 1, 1, 1, 1, 1, 1, 1, 1,\n",
       "       1, 1, 1, 1, 1, 1, 1, 1, 1, 1, 1, 1, 1, 1, 1, 1, 1, 1, 1, 1, 1, 1,\n",
       "       1, 1, 1, 1, 1, 1, 1, 1, 1, 1, 1, 1, 2, 2, 2, 2, 2, 2, 2, 2, 2, 2,\n",
       "       2, 2, 2, 2, 2, 2, 2, 2, 2, 2, 2, 2, 2, 2, 2, 2, 2, 2, 2, 2, 2, 2,\n",
       "       2, 2, 2, 2, 2, 2, 2, 2, 2, 2, 2, 2, 2, 2, 2, 2, 2, 2])"
      ]
     },
     "execution_count": 15,
     "metadata": {},
     "output_type": "execute_result"
    }
   ],
   "source": [
    "df.target"
   ]
  },
  {
   "cell_type": "code",
   "execution_count": 16,
   "id": "8e9f412d",
   "metadata": {},
   "outputs": [],
   "source": [
    "X_train, X_test, y_train, y_test = train_test_split(df.data, df.target, test_size = 0.2, random_state=42 )"
   ]
  },
  {
   "cell_type": "code",
   "execution_count": 17,
   "id": "885ef55d",
   "metadata": {},
   "outputs": [],
   "source": [
    "# Creation of Pipeline\n",
    "## Tasks in pipeline\n",
    "# 1. Data preprocessing using Standardizer\n",
    "# 2. reduce dimension using PCA\n",
    "# 3. Apply classification"
   ]
  },
  {
   "cell_type": "code",
   "execution_count": null,
   "id": "0cd3b735",
   "metadata": {},
   "outputs": [],
   "source": []
  },
  {
   "cell_type": "code",
   "execution_count": 18,
   "id": "0bb6885b",
   "metadata": {},
   "outputs": [
    {
     "ename": "NameError",
     "evalue": "name 'StandardScalar' is not defined",
     "output_type": "error",
     "traceback": [
      "\u001b[0;31m---------------------------------------------------------------------------\u001b[0m",
      "\u001b[0;31mNameError\u001b[0m                                 Traceback (most recent call last)",
      "Cell \u001b[0;32mIn[18], line 2\u001b[0m\n\u001b[1;32m      1\u001b[0m \u001b[38;5;66;03m# 1st classification algorithm (KNN)\u001b[39;00m\n\u001b[0;32m----> 2\u001b[0m pipeline_knn \u001b[38;5;241m=\u001b[39m Pipeline([(\u001b[38;5;124m'\u001b[39m\u001b[38;5;124mscalar1\u001b[39m\u001b[38;5;124m'\u001b[39m, \u001b[43mStandardScalar\u001b[49m()),\n\u001b[1;32m      3\u001b[0m                         (\u001b[38;5;124m'\u001b[39m\u001b[38;5;124mpca1\u001b[39m\u001b[38;5;124m'\u001b[39m, PCA(n_components\u001b[38;5;241m=\u001b[39m\u001b[38;5;241m2\u001b[39m)),\n\u001b[1;32m      4\u001b[0m                         (\u001b[38;5;124m'\u001b[39m\u001b[38;5;124mknn_classifier\u001b[39m\u001b[38;5;124m'\u001b[39m, KNeighborsClassifier())])\n",
      "\u001b[0;31mNameError\u001b[0m: name 'StandardScalar' is not defined"
     ]
    }
   ],
   "source": [
    "# 1st classification algorithm (KNN)\n",
    "pipeline_knn = Pipeline([('scalar1', StandardScalar()),\n",
    "                        ('pca1', PCA(n_components=2)),\n",
    "                        ('knn_classifier', KNeighborsClassifier())])"
   ]
  },
  {
   "cell_type": "code",
   "execution_count": null,
   "id": "fc48087c",
   "metadata": {},
   "outputs": [],
   "source": [
    "# 1st classification algorithm (Decision Tree)\n",
    "pipeline_knn = Pipeline([('scalar2', StandardScalar()),\n",
    "                        ('pca2', PCA(n_components=2)),\n",
    "                        ('dt_classifier', DecisionTreeClassifier())])"
   ]
  },
  {
   "cell_type": "code",
   "execution_count": null,
   "id": "f7423138",
   "metadata": {},
   "outputs": [],
   "source": [
    "# Create the pipeline\n",
    "pipelines = [pipeline_knn, pipeline_dt] # list"
   ]
  },
  {
   "cell_type": "code",
   "execution_count": null,
   "id": "1f0199ab",
   "metadata": {},
   "outputs": [],
   "source": [
    "#initialize the variables\n",
    "best_accuracy = 0.0\n",
    "best_classifier = 0\n",
    "best_pipeline = \"\""
   ]
  },
  {
   "cell_type": "code",
   "execution_count": null,
   "id": "1890fa18",
   "metadata": {},
   "outputs": [],
   "source": [
    "# Dictionary of pipelines and classifier types for ease of reference\n",
    "pipe_dict={0: 'KNN', 1:\"Decision Tree\"}"
   ]
  },
  {
   "cell_type": "code",
   "execution_count": null,
   "id": "fbd8bf72",
   "metadata": {},
   "outputs": [],
   "source": [
    "# Fit the pipeline\n",
    "for pipe in pipelines:\n",
    "    pipe.fit(X_train, y_train) # Training"
   ]
  },
  {
   "cell_type": "code",
   "execution_count": null,
   "id": "b4dade30",
   "metadata": {},
   "outputs": [],
   "source": [
    "for i, model in enumerate(pipelines):\n",
    "    print(\"{} Test Accuracy: {}\".format(pipe_dict[i], model.score(X_test, Y\n"
   ]
  }
 ],
 "metadata": {
  "kernelspec": {
   "display_name": "Python 3 (ipykernel)",
   "language": "python",
   "name": "python3"
  },
  "language_info": {
   "codemirror_mode": {
    "name": "ipython",
    "version": 3
   },
   "file_extension": ".py",
   "mimetype": "text/x-python",
   "name": "python",
   "nbconvert_exporter": "python",
   "pygments_lexer": "ipython3",
   "version": "3.9.16"
  }
 },
 "nbformat": 4,
 "nbformat_minor": 5
}
