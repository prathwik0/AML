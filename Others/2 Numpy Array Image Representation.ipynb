{
 "cells": [
  {
   "cell_type": "code",
   "execution_count": 1,
   "metadata": {},
   "outputs": [],
   "source": [
    "import numpy as np\n",
    "from PIL import Image"
   ]
  },
  {
   "cell_type": "code",
   "execution_count": 2,
   "metadata": {},
   "outputs": [
    {
     "data": {
      "text/plain": [
       "array([[[22, 25, 18],\n",
       "        [17, 20, 13],\n",
       "        [17, 20, 13],\n",
       "        ...,\n",
       "        [31, 32, 34],\n",
       "        [33, 34, 36],\n",
       "        [34, 35, 37]],\n",
       "\n",
       "       [[21, 24, 17],\n",
       "        [17, 20, 13],\n",
       "        [18, 21, 14],\n",
       "        ...,\n",
       "        [31, 32, 34],\n",
       "        [32, 33, 35],\n",
       "        [33, 34, 36]],\n",
       "\n",
       "       [[21, 24, 17],\n",
       "        [19, 22, 15],\n",
       "        [19, 22, 15],\n",
       "        ...,\n",
       "        [31, 32, 34],\n",
       "        [32, 33, 35],\n",
       "        [32, 33, 35]],\n",
       "\n",
       "       ...,\n",
       "\n",
       "       [[23, 24, 26],\n",
       "        [23, 24, 26],\n",
       "        [23, 24, 26],\n",
       "        ...,\n",
       "        [27, 33, 33],\n",
       "        [27, 33, 33],\n",
       "        [27, 33, 33]],\n",
       "\n",
       "       [[23, 24, 26],\n",
       "        [23, 24, 26],\n",
       "        [23, 24, 26],\n",
       "        ...,\n",
       "        [26, 32, 32],\n",
       "        [26, 32, 32],\n",
       "        [26, 32, 32]],\n",
       "\n",
       "       [[23, 24, 26],\n",
       "        [23, 24, 26],\n",
       "        [23, 24, 26],\n",
       "        ...,\n",
       "        [26, 32, 32],\n",
       "        [26, 32, 32],\n",
       "        [26, 32, 32]]], dtype=uint8)"
      ]
     },
     "execution_count": 2,
     "metadata": {},
     "output_type": "execute_result"
    }
   ],
   "source": [
    "# Load the image\n",
    "image = Image.open(\"stark.jpeg\")\n",
    "\n",
    "# Convert the image to a numpy array\n",
    "image_array = np.array(image)\n",
    "image_array"
   ]
  },
  {
   "cell_type": "code",
   "execution_count": 3,
   "metadata": {},
   "outputs": [
    {
     "data": {
      "text/plain": [
       "(1080, 1920, 3)"
      ]
     },
     "execution_count": 3,
     "metadata": {},
     "output_type": "execute_result"
    }
   ],
   "source": [
    "# Image Shape\n",
    "image_array.shape"
   ]
  },
  {
   "cell_type": "code",
   "execution_count": 4,
   "metadata": {},
   "outputs": [
    {
     "data": {
      "text/plain": [
       "array([[23, 18, 18, ..., 32, 34, 35],\n",
       "       [22, 18, 19, ..., 32, 33, 34],\n",
       "       [22, 20, 20, ..., 32, 33, 33],\n",
       "       ...,\n",
       "       [24, 24, 24, ..., 31, 31, 31],\n",
       "       [24, 24, 24, ..., 30, 30, 30],\n",
       "       [24, 24, 24, ..., 30, 30, 30]], dtype=uint8)"
      ]
     },
     "execution_count": 4,
     "metadata": {},
     "output_type": "execute_result"
    }
   ],
   "source": [
    "image = Image.open(\"stark.jpeg\")\n",
    "\n",
    "\n",
    "# Convert into grayscale\n",
    "gray_image = image.convert(\"L\")\n",
    "\n",
    "# Convert the image to a numpy array\n",
    "image_array = np.array(gray_image)\n",
    "image_array"
   ]
  },
  {
   "cell_type": "code",
   "execution_count": 5,
   "metadata": {},
   "outputs": [
    {
     "data": {
      "text/plain": [
       "(1080, 1920)"
      ]
     },
     "execution_count": 5,
     "metadata": {},
     "output_type": "execute_result"
    }
   ],
   "source": [
    "image_array.shape"
   ]
  }
 ],
 "metadata": {
  "kernelspec": {
   "display_name": "aml",
   "language": "python",
   "name": "python3"
  },
  "language_info": {
   "codemirror_mode": {
    "name": "ipython",
    "version": 3
   },
   "file_extension": ".py",
   "mimetype": "text/x-python",
   "name": "python",
   "nbconvert_exporter": "python",
   "pygments_lexer": "ipython3",
   "version": "3.10.11"
  },
  "orig_nbformat": 4
 },
 "nbformat": 4,
 "nbformat_minor": 2
}
