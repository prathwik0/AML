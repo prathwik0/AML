{
 "cells": [
  {
   "cell_type": "code",
   "execution_count": null,
   "id": "7e0aeb1e",
   "metadata": {},
   "outputs": [],
   "source": [
    "import pandas as pd\n",
    "import numpy as np\n",
    "import seaborn as sns\n",
    "import matplotlib.pyplot as plt  \n",
    "import sklearn \n",
    "%matplotlib inline"
   ]
  },
  {
   "cell_type": "code",
   "execution_count": null,
   "id": "626b7d1d",
   "metadata": {},
   "outputs": [],
   "source": [
    "# import dataset\n",
    "from sklearn.datasets import load_breast_cancer"
   ]
  },
  {
   "cell_type": "code",
   "execution_count": null,
   "id": "43a825f5",
   "metadata": {},
   "outputs": [],
   "source": [
    "# instance of the dataset\n",
    "cancer = load_breast_cancer()"
   ]
  },
  {
   "cell_type": "code",
   "execution_count": null,
   "id": "016051e1",
   "metadata": {},
   "outputs": [],
   "source": [
    "#convert array to df\n",
    "df = pd.DataFrame(cancer['data'], columns=cancer['feature_names'])"
   ]
  },
  {
   "cell_type": "code",
   "execution_count": null,
   "id": "97e12f53",
   "metadata": {},
   "outputs": [],
   "source": [
    "df.head()"
   ]
  },
  {
   "cell_type": "code",
   "execution_count": null,
   "id": "cd863e74",
   "metadata": {},
   "outputs": [],
   "source": [
    "from sklearn.preprocessing import StandardScaler"
   ]
  },
  {
   "cell_type": "code",
   "execution_count": null,
   "id": "126a0953",
   "metadata": {},
   "outputs": [],
   "source": [
    "scaler = StandardScaler()\n",
    "scaler.fit(df)\n",
    "scaled_data = scaler.transform(df)\n",
    "#scaled_data = pd.DataFrame(scaled_data, column )"
   ]
  },
  {
   "attachments": {},
   "cell_type": "markdown",
   "id": "997ee99d",
   "metadata": {},
   "source": [
    "PCA with Scikit Learn uses a very similar process to other preprocessing functions that come with Scikit Learn. We instantiate a PCA object, find the principal components using the fit method, then apply the rotation "
   ]
  },
  {
   "cell_type": "code",
   "execution_count": null,
   "id": "4555136e",
   "metadata": {},
   "outputs": [],
   "source": [
    "from sklearn.decomposition import PCA\n",
    "pca = PCA(n_components=2) # how many features\n",
    "pca.fit(scaled_data) # applying pca for scaled data"
   ]
  },
  {
   "cell_type": "code",
   "execution_count": null,
   "id": "67e4ad03",
   "metadata": {},
   "outputs": [],
   "source": [
    "PCA(n_components = 2)\n",
    "\n",
    "# Now we can transform this data to its first 2 principal components"
   ]
  },
  {
   "cell_type": "code",
   "execution_count": null,
   "id": "f581d21e",
   "metadata": {},
   "outputs": [],
   "source": [
    "#apply pca on scaled data using previous fit method\n",
    "x_pca = pca.transform(scaled_data)"
   ]
  },
  {
   "cell_type": "code",
   "execution_count": null,
   "id": "d87be0fe",
   "metadata": {},
   "outputs": [],
   "source": [
    "x_pca.shape"
   ]
  },
  {
   "attachments": {},
   "cell_type": "markdown",
   "id": "51e63c9f",
   "metadata": {},
   "source": [
    "We've reduced 30 dimensions to just 2! Lets plot these 2 dimensions out"
   ]
  },
  {
   "cell_type": "code",
   "execution_count": null,
   "id": "0414c902",
   "metadata": {},
   "outputs": [],
   "source": [
    "plt.figure(figsize=(8,6))\n",
    "plt.scatter(x_pca[:, 0], x_pca[:, 1], c=cancer['target'])\n",
    "plt.xlabel('First principal component')\n",
    "plt.ylabel('Second principal component')"
   ]
  },
  {
   "cell_type": "code",
   "execution_count": null,
   "id": "56611cc5",
   "metadata": {},
   "outputs": [],
   "source": []
  }
 ],
 "metadata": {
  "kernelspec": {
   "display_name": "Python 3 (ipykernel)",
   "language": "python",
   "name": "python3"
  },
  "language_info": {
   "codemirror_mode": {
    "name": "ipython",
    "version": 3
   },
   "file_extension": ".py",
   "mimetype": "text/x-python",
   "name": "python",
   "nbconvert_exporter": "python",
   "pygments_lexer": "ipython3",
   "version": "3.10.9"
  }
 },
 "nbformat": 4,
 "nbformat_minor": 5
}
