{
 "cells": [
  {
   "cell_type": "code",
   "execution_count": 1,
   "metadata": {},
   "outputs": [],
   "source": [
    "import numpy as np"
   ]
  },
  {
   "attachments": {},
   "cell_type": "markdown",
   "metadata": {},
   "source": [
    "----"
   ]
  },
  {
   "attachments": {},
   "cell_type": "markdown",
   "metadata": {},
   "source": [
    "# 1. Create a 6x6 2d array\n",
    "### Let 1 and 2 be placed alternatively across the diagonals\n",
    "[1 0 1 0 1 0]<br>\n",
    "[0 1 0 1 0 1]<br>\n",
    "[1 0 1 0 1 0]<br>\n",
    "[0 1 0 1 0 1]<br>\n",
    "[1 0 1 0 1 0]<br>\n",
    "[0 1 0 1 0 1]"
   ]
  },
  {
   "cell_type": "code",
   "execution_count": 2,
   "metadata": {},
   "outputs": [
    {
     "name": "stdout",
     "output_type": "stream",
     "text": [
      "[[1 0 1 0 1 0]\n",
      " [0 1 0 1 0 1]\n",
      " [1 0 1 0 1 0]\n",
      " [0 1 0 1 0 1]\n",
      " [1 0 1 0 1 0]\n",
      " [0 1 0 1 0 1]]\n"
     ]
    }
   ],
   "source": [
    "a = np.zeros((6, 6), dtype=\"int16\")\n",
    "\n",
    "for i in range(6):\n",
    "    for j in range(6):\n",
    "        if (i + j) % 2 == 0:\n",
    "            a[i][j] = 1\n",
    "\n",
    "print(a)"
   ]
  },
  {
   "attachments": {},
   "cell_type": "markdown",
   "metadata": {},
   "source": [
    "### Or"
   ]
  },
  {
   "cell_type": "code",
   "execution_count": 3,
   "metadata": {},
   "outputs": [
    {
     "name": "stdout",
     "output_type": "stream",
     "text": [
      "[[1 0 1 0 1 0]\n",
      " [0 1 0 1 0 1]\n",
      " [1 0 1 0 1 0]\n",
      " [0 1 0 1 0 1]\n",
      " [1 0 1 0 1 0]\n",
      " [0 1 0 1 0 1]]\n"
     ]
    }
   ],
   "source": [
    "a = np.zeros((6, 6), dtype=\"int16\")\n",
    "\n",
    "a[::2, ::2] = 1\n",
    "a[1::2, 1::2] = 1\n",
    "\n",
    "print(a)"
   ]
  },
  {
   "attachments": {},
   "cell_type": "markdown",
   "metadata": {},
   "source": [
    "----"
   ]
  },
  {
   "attachments": {},
   "cell_type": "markdown",
   "metadata": {},
   "source": [
    "# 2. Finding missing values\n",
    "### Find the total number and locations of missing values in the array and replace it with a value"
   ]
  },
  {
   "cell_type": "code",
   "execution_count": 4,
   "metadata": {},
   "outputs": [
    {
     "data": {
      "text/plain": [
       "array([[       nan, 0.61402648, 0.39517893,        nan, 0.73257323,\n",
       "        0.50570177, 0.8370586 , 0.81796502, 0.77369727, 0.11896983],\n",
       "       [0.52425921, 0.07914045, 0.5785616 , 0.94494122, 0.79614965,\n",
       "        0.29301188, 0.27115731, 0.61027596, 0.65827811, 0.33448099],\n",
       "       [0.45195996, 0.41242764, 0.90250908, 0.83318326,        nan,\n",
       "        0.29385714, 0.11068442, 0.76036961, 0.74688562, 0.96928576],\n",
       "       [0.15304987, 0.49389095, 0.79139233, 0.12417805, 0.62277468,\n",
       "        0.0679467 , 0.87479832,        nan, 0.65981381, 0.78676383],\n",
       "       [0.09704136, 0.54211027, 0.31944151, 0.30267702, 0.12770006,\n",
       "        0.30784245, 0.95176022, 0.73324857, 0.89162335,        nan],\n",
       "       [0.81184525, 0.23355112, 0.43230333, 0.96797106,        nan,\n",
       "        0.92958137, 0.87552091, 0.99544532, 0.83901088, 0.51993832],\n",
       "       [0.71586702, 0.02599416, 0.07449264, 0.0646214 , 0.41828511,\n",
       "        0.22590567, 0.46008692, 0.17380274, 0.96412813, 0.50747793],\n",
       "       [0.0948844 , 0.64172669, 0.90703486, 0.81846976, 0.86492994,\n",
       "        0.68464415, 0.85725568, 0.47412823, 0.6407731 ,        nan],\n",
       "       [0.23753265, 0.95802336, 0.96331676,        nan, 0.64556405,\n",
       "        0.52120439, 0.41076572, 0.00228814, 0.59294405, 0.3926181 ],\n",
       "       [0.53377913, 0.22932706, 0.62076445,        nan, 0.9904868 ,\n",
       "        0.51562115, 0.15855547, 0.018558  ,        nan, 0.02582483]])"
      ]
     },
     "execution_count": 4,
     "metadata": {},
     "output_type": "execute_result"
    }
   ],
   "source": [
    "arr = np.random.rand(10, 10)\n",
    "arr[np.random.randint(10, size=10), np.random.randint(10, size=10)] = np.nan\n",
    "arr"
   ]
  },
  {
   "cell_type": "code",
   "execution_count": 5,
   "metadata": {},
   "outputs": [
    {
     "data": {
      "text/plain": [
       "10"
      ]
     },
     "execution_count": 5,
     "metadata": {},
     "output_type": "execute_result"
    }
   ],
   "source": [
    "np.isnan(arr).sum()"
   ]
  },
  {
   "cell_type": "code",
   "execution_count": 6,
   "metadata": {},
   "outputs": [
    {
     "data": {
      "text/plain": [
       "array([[0, 0],\n",
       "       [0, 3],\n",
       "       [2, 4],\n",
       "       [3, 7],\n",
       "       [4, 9],\n",
       "       [5, 4],\n",
       "       [7, 9],\n",
       "       [8, 3],\n",
       "       [9, 3],\n",
       "       [9, 8]])"
      ]
     },
     "execution_count": 6,
     "metadata": {},
     "output_type": "execute_result"
    }
   ],
   "source": [
    "np.argwhere(np.isnan(arr))"
   ]
  },
  {
   "cell_type": "code",
   "execution_count": 7,
   "metadata": {},
   "outputs": [
    {
     "data": {
      "text/plain": [
       "array([[0.        , 0.61402648, 0.39517893, 0.        , 0.73257323,\n",
       "        0.50570177, 0.8370586 , 0.81796502, 0.77369727, 0.11896983],\n",
       "       [0.52425921, 0.07914045, 0.5785616 , 0.94494122, 0.79614965,\n",
       "        0.29301188, 0.27115731, 0.61027596, 0.65827811, 0.33448099],\n",
       "       [0.45195996, 0.41242764, 0.90250908, 0.83318326, 0.        ,\n",
       "        0.29385714, 0.11068442, 0.76036961, 0.74688562, 0.96928576],\n",
       "       [0.15304987, 0.49389095, 0.79139233, 0.12417805, 0.62277468,\n",
       "        0.0679467 , 0.87479832, 0.        , 0.65981381, 0.78676383],\n",
       "       [0.09704136, 0.54211027, 0.31944151, 0.30267702, 0.12770006,\n",
       "        0.30784245, 0.95176022, 0.73324857, 0.89162335, 0.        ],\n",
       "       [0.81184525, 0.23355112, 0.43230333, 0.96797106, 0.        ,\n",
       "        0.92958137, 0.87552091, 0.99544532, 0.83901088, 0.51993832],\n",
       "       [0.71586702, 0.02599416, 0.07449264, 0.0646214 , 0.41828511,\n",
       "        0.22590567, 0.46008692, 0.17380274, 0.96412813, 0.50747793],\n",
       "       [0.0948844 , 0.64172669, 0.90703486, 0.81846976, 0.86492994,\n",
       "        0.68464415, 0.85725568, 0.47412823, 0.6407731 , 0.        ],\n",
       "       [0.23753265, 0.95802336, 0.96331676, 0.        , 0.64556405,\n",
       "        0.52120439, 0.41076572, 0.00228814, 0.59294405, 0.3926181 ],\n",
       "       [0.53377913, 0.22932706, 0.62076445, 0.        , 0.9904868 ,\n",
       "        0.51562115, 0.15855547, 0.018558  , 0.        , 0.02582483]])"
      ]
     },
     "execution_count": 7,
     "metadata": {},
     "output_type": "execute_result"
    }
   ],
   "source": [
    "index = np.where(np.isnan(arr))\n",
    "arr[index] = \"0\"\n",
    "arr"
   ]
  },
  {
   "attachments": {},
   "cell_type": "markdown",
   "metadata": {},
   "source": [
    "----"
   ]
  }
 ],
 "metadata": {
  "kernelspec": {
   "display_name": "aml",
   "language": "python",
   "name": "python3"
  },
  "language_info": {
   "codemirror_mode": {
    "name": "ipython",
    "version": 3
   },
   "file_extension": ".py",
   "mimetype": "text/x-python",
   "name": "python",
   "nbconvert_exporter": "python",
   "pygments_lexer": "ipython3",
   "version": "3.10.11"
  },
  "orig_nbformat": 4
 },
 "nbformat": 4,
 "nbformat_minor": 2
}
