{
 "cells": [
  {
   "attachments": {},
   "cell_type": "markdown",
   "id": "ba927a2d",
   "metadata": {},
   "source": [
    "# Scrapping news data for last 24 hours"
   ]
  },
  {
   "cell_type": "code",
   "execution_count": 1,
   "id": "f5d6b424",
   "metadata": {},
   "outputs": [],
   "source": [
    "import requests\n",
    "from bs4 import BeautifulSoup\n",
    "import pandas as pd\n",
    "\n",
    "# we need current time + 24 hour time delta for this program\n",
    "from datetime import datetime, timedelta"
   ]
  },
  {
   "cell_type": "code",
   "execution_count": 2,
   "id": "4517d81c",
   "metadata": {},
   "outputs": [],
   "source": [
    "# Define the URL for Google News RSS feed (Rich Site Summary)\n",
    "# (ps. URL will be provided for exams)\n",
    "url = \"https://news.google.com/rss?h1=en-US&gl=US&ceid=US:en\""
   ]
  },
  {
   "cell_type": "code",
   "execution_count": 3,
   "id": "a44b7011",
   "metadata": {},
   "outputs": [
    {
     "data": {
      "text/plain": [
       "<Response [200]>"
      ]
     },
     "execution_count": 3,
     "metadata": {},
     "output_type": "execute_result"
    }
   ],
   "source": [
    "response = requests.get(url)\n",
    "response"
   ]
  },
  {
   "cell_type": "code",
   "execution_count": 4,
   "id": "388441e1",
   "metadata": {},
   "outputs": [],
   "source": [
    "# Parse the XML content using BeautifulSoup\n",
    "soup = BeautifulSoup(response.content, \"xml\")\n",
    "\n",
    "# Find all <item> elements which represent individual news articles\n",
    "articles = soup.find_all(\"item\")"
   ]
  },
  {
   "cell_type": "code",
   "execution_count": 5,
   "id": "1e52508a",
   "metadata": {},
   "outputs": [],
   "source": [
    "# list to store scrapped data\n",
    "data = []\n",
    "\n",
    "# Calculate the cutoff time for the past 24 hours\n",
    "cutoff_time = datetime.now() - timedelta(hours=24)"
   ]
  },
  {
   "cell_type": "code",
   "execution_count": 6,
   "id": "59b3f7b9",
   "metadata": {},
   "outputs": [],
   "source": [
    "for article in articles:\n",
    "    # Extract relevant data from each article\n",
    "    pub_date = datetime.strptime(article.pubDate.text, \"%a, %d %b %Y %H:%M:%S %Z\")\n",
    "    # Check if the article was published within the last 24 hours\n",
    "    if pub_date >= cutoff_time:\n",
    "        title = article.title.text  # Extract title\n",
    "        link = article.link.text  # Extract link\n",
    "        description = article.description.text  # Extract description\n",
    "\n",
    "        # Append the extracted data to the list\n",
    "        data.append([title, link, description])"
   ]
  },
  {
   "cell_type": "code",
   "execution_count": 7,
   "id": "37f9e819",
   "metadata": {},
   "outputs": [],
   "source": [
    "# Create a DataFrame from the scrapped data\n",
    "df = pd.DataFrame(data, columns=[\"Title\", \"Link\", \"Description\"])"
   ]
  },
  {
   "cell_type": "code",
   "execution_count": 8,
   "id": "73dae419",
   "metadata": {},
   "outputs": [
    {
     "data": {
      "text/html": [
       "<div>\n",
       "<style scoped>\n",
       "    .dataframe tbody tr th:only-of-type {\n",
       "        vertical-align: middle;\n",
       "    }\n",
       "\n",
       "    .dataframe tbody tr th {\n",
       "        vertical-align: top;\n",
       "    }\n",
       "\n",
       "    .dataframe thead th {\n",
       "        text-align: right;\n",
       "    }\n",
       "</style>\n",
       "<table border=\"1\" class=\"dataframe\">\n",
       "  <thead>\n",
       "    <tr style=\"text-align: right;\">\n",
       "      <th></th>\n",
       "      <th>Title</th>\n",
       "      <th>Link</th>\n",
       "      <th>Description</th>\n",
       "    </tr>\n",
       "  </thead>\n",
       "  <tbody>\n",
       "    <tr>\n",
       "      <th>0</th>\n",
       "      <td>Biden officials must limit contact with social...</td>\n",
       "      <td>https://news.google.com/rss/articles/CBMiLGh0d...</td>\n",
       "      <td>&lt;ol&gt;&lt;li&gt;&lt;a href=\"https://news.google.com/rss/a...</td>\n",
       "    </tr>\n",
       "    <tr>\n",
       "      <th>1</th>\n",
       "      <td>Cocaine found in White House sparks brief evac...</td>\n",
       "      <td>https://news.google.com/rss/articles/CBMiMWh0d...</td>\n",
       "      <td>&lt;ol&gt;&lt;li&gt;&lt;a href=\"https://news.google.com/rss/a...</td>\n",
       "    </tr>\n",
       "    <tr>\n",
       "      <th>2</th>\n",
       "      <td>The Russia-Ukraine War Changed This Finland Co...</td>\n",
       "      <td>https://news.google.com/rss/articles/CBMiVWh0d...</td>\n",
       "      <td>&lt;a href=\"https://news.google.com/rss/articles/...</td>\n",
       "    </tr>\n",
       "    <tr>\n",
       "      <th>3</th>\n",
       "      <td>The killer in one of Philadelphia’s deadliest ...</td>\n",
       "      <td>https://news.google.com/rss/articles/CBMidGh0d...</td>\n",
       "      <td>&lt;ol&gt;&lt;li&gt;&lt;a href=\"https://news.google.com/rss/a...</td>\n",
       "    </tr>\n",
       "    <tr>\n",
       "      <th>4</th>\n",
       "      <td>A Solemn Walk Through Highland Park One Year A...</td>\n",
       "      <td>https://news.google.com/rss/articles/CBMiVGh0d...</td>\n",
       "      <td>&lt;ol&gt;&lt;li&gt;&lt;a href=\"https://news.google.com/rss/a...</td>\n",
       "    </tr>\n",
       "  </tbody>\n",
       "</table>\n",
       "</div>"
      ],
      "text/plain": [
       "                                               Title  \\\n",
       "0  Biden officials must limit contact with social...   \n",
       "1  Cocaine found in White House sparks brief evac...   \n",
       "2  The Russia-Ukraine War Changed This Finland Co...   \n",
       "3  The killer in one of Philadelphia’s deadliest ...   \n",
       "4  A Solemn Walk Through Highland Park One Year A...   \n",
       "\n",
       "                                                Link  \\\n",
       "0  https://news.google.com/rss/articles/CBMiLGh0d...   \n",
       "1  https://news.google.com/rss/articles/CBMiMWh0d...   \n",
       "2  https://news.google.com/rss/articles/CBMiVWh0d...   \n",
       "3  https://news.google.com/rss/articles/CBMidGh0d...   \n",
       "4  https://news.google.com/rss/articles/CBMiVGh0d...   \n",
       "\n",
       "                                         Description  \n",
       "0  <ol><li><a href=\"https://news.google.com/rss/a...  \n",
       "1  <ol><li><a href=\"https://news.google.com/rss/a...  \n",
       "2  <a href=\"https://news.google.com/rss/articles/...  \n",
       "3  <ol><li><a href=\"https://news.google.com/rss/a...  \n",
       "4  <ol><li><a href=\"https://news.google.com/rss/a...  "
      ]
     },
     "execution_count": 8,
     "metadata": {},
     "output_type": "execute_result"
    }
   ],
   "source": [
    "df.head()"
   ]
  },
  {
   "attachments": {},
   "cell_type": "markdown",
   "id": "71392adf",
   "metadata": {},
   "source": [
    "# Apply unsupervised clustering algorithm to get the labelled data\n",
    "We are using unsupervised learning to categorize the data, ie labelling the news.  \n",
    "(ps. we can apply clustering to title or description or any other attribute)  \n",
    "(here we are applying KMeans clustering to Description)"
   ]
  },
  {
   "cell_type": "code",
   "execution_count": 9,
   "id": "90f70194",
   "metadata": {},
   "outputs": [],
   "source": [
    "from sklearn.feature_extraction.text import TfidfVectorizer\n",
    "from sklearn.cluster import KMeans"
   ]
  },
  {
   "cell_type": "code",
   "execution_count": 10,
   "id": "7100ed45",
   "metadata": {},
   "outputs": [],
   "source": [
    "# Convert the description text into numerical features\n",
    "vectorizer = TfidfVectorizer()\n",
    "X = vectorizer.fit_transform(df[\"Description\"])"
   ]
  },
  {
   "cell_type": "code",
   "execution_count": 11,
   "id": "ea8b81fb",
   "metadata": {},
   "outputs": [
    {
     "data": {
      "text/html": [
       "<style>#sk-container-id-1 {color: black;background-color: white;}#sk-container-id-1 pre{padding: 0;}#sk-container-id-1 div.sk-toggleable {background-color: white;}#sk-container-id-1 label.sk-toggleable__label {cursor: pointer;display: block;width: 100%;margin-bottom: 0;padding: 0.3em;box-sizing: border-box;text-align: center;}#sk-container-id-1 label.sk-toggleable__label-arrow:before {content: \"▸\";float: left;margin-right: 0.25em;color: #696969;}#sk-container-id-1 label.sk-toggleable__label-arrow:hover:before {color: black;}#sk-container-id-1 div.sk-estimator:hover label.sk-toggleable__label-arrow:before {color: black;}#sk-container-id-1 div.sk-toggleable__content {max-height: 0;max-width: 0;overflow: hidden;text-align: left;background-color: #f0f8ff;}#sk-container-id-1 div.sk-toggleable__content pre {margin: 0.2em;color: black;border-radius: 0.25em;background-color: #f0f8ff;}#sk-container-id-1 input.sk-toggleable__control:checked~div.sk-toggleable__content {max-height: 200px;max-width: 100%;overflow: auto;}#sk-container-id-1 input.sk-toggleable__control:checked~label.sk-toggleable__label-arrow:before {content: \"▾\";}#sk-container-id-1 div.sk-estimator input.sk-toggleable__control:checked~label.sk-toggleable__label {background-color: #d4ebff;}#sk-container-id-1 div.sk-label input.sk-toggleable__control:checked~label.sk-toggleable__label {background-color: #d4ebff;}#sk-container-id-1 input.sk-hidden--visually {border: 0;clip: rect(1px 1px 1px 1px);clip: rect(1px, 1px, 1px, 1px);height: 1px;margin: -1px;overflow: hidden;padding: 0;position: absolute;width: 1px;}#sk-container-id-1 div.sk-estimator {font-family: monospace;background-color: #f0f8ff;border: 1px dotted black;border-radius: 0.25em;box-sizing: border-box;margin-bottom: 0.5em;}#sk-container-id-1 div.sk-estimator:hover {background-color: #d4ebff;}#sk-container-id-1 div.sk-parallel-item::after {content: \"\";width: 100%;border-bottom: 1px solid gray;flex-grow: 1;}#sk-container-id-1 div.sk-label:hover label.sk-toggleable__label {background-color: #d4ebff;}#sk-container-id-1 div.sk-serial::before {content: \"\";position: absolute;border-left: 1px solid gray;box-sizing: border-box;top: 0;bottom: 0;left: 50%;z-index: 0;}#sk-container-id-1 div.sk-serial {display: flex;flex-direction: column;align-items: center;background-color: white;padding-right: 0.2em;padding-left: 0.2em;position: relative;}#sk-container-id-1 div.sk-item {position: relative;z-index: 1;}#sk-container-id-1 div.sk-parallel {display: flex;align-items: stretch;justify-content: center;background-color: white;position: relative;}#sk-container-id-1 div.sk-item::before, #sk-container-id-1 div.sk-parallel-item::before {content: \"\";position: absolute;border-left: 1px solid gray;box-sizing: border-box;top: 0;bottom: 0;left: 50%;z-index: -1;}#sk-container-id-1 div.sk-parallel-item {display: flex;flex-direction: column;z-index: 1;position: relative;background-color: white;}#sk-container-id-1 div.sk-parallel-item:first-child::after {align-self: flex-end;width: 50%;}#sk-container-id-1 div.sk-parallel-item:last-child::after {align-self: flex-start;width: 50%;}#sk-container-id-1 div.sk-parallel-item:only-child::after {width: 0;}#sk-container-id-1 div.sk-dashed-wrapped {border: 1px dashed gray;margin: 0 0.4em 0.5em 0.4em;box-sizing: border-box;padding-bottom: 0.4em;background-color: white;}#sk-container-id-1 div.sk-label label {font-family: monospace;font-weight: bold;display: inline-block;line-height: 1.2em;}#sk-container-id-1 div.sk-label-container {text-align: center;}#sk-container-id-1 div.sk-container {/* jupyter's `normalize.less` sets `[hidden] { display: none; }` but bootstrap.min.css set `[hidden] { display: none !important; }` so we also need the `!important` here to be able to override the default hidden behavior on the sphinx rendered scikit-learn.org. See: https://github.com/scikit-learn/scikit-learn/issues/21755 */display: inline-block !important;position: relative;}#sk-container-id-1 div.sk-text-repr-fallback {display: none;}</style><div id=\"sk-container-id-1\" class=\"sk-top-container\"><div class=\"sk-text-repr-fallback\"><pre>KMeans(n_clusters=5, random_state=42)</pre><b>In a Jupyter environment, please rerun this cell to show the HTML representation or trust the notebook. <br />On GitHub, the HTML representation is unable to render, please try loading this page with nbviewer.org.</b></div><div class=\"sk-container\" hidden><div class=\"sk-item\"><div class=\"sk-estimator sk-toggleable\"><input class=\"sk-toggleable__control sk-hidden--visually\" id=\"sk-estimator-id-1\" type=\"checkbox\" checked><label for=\"sk-estimator-id-1\" class=\"sk-toggleable__label sk-toggleable__label-arrow\">KMeans</label><div class=\"sk-toggleable__content\"><pre>KMeans(n_clusters=5, random_state=42)</pre></div></div></div></div></div>"
      ],
      "text/plain": [
       "KMeans(n_clusters=5, random_state=42)"
      ]
     },
     "execution_count": 11,
     "metadata": {},
     "output_type": "execute_result"
    }
   ],
   "source": [
    "# Apply K-means clustering\n",
    "k = 5  # Number of clusters\n",
    "# or use hyperparameter tuning to find the best k value\n",
    "\n",
    "kmeans = KMeans(n_clusters=k, random_state=42)\n",
    "kmeans.fit(X)"
   ]
  },
  {
   "cell_type": "code",
   "execution_count": 12,
   "id": "0bc2b2ec",
   "metadata": {},
   "outputs": [
    {
     "data": {
      "text/plain": [
       "array([3, 1, 1, 1, 1, 1, 1, 1, 1, 1, 1, 1, 1, 1, 1, 1, 1, 1, 1, 1, 1, 4,\n",
       "       1, 1, 0, 0, 1, 2], dtype=int32)"
      ]
     },
     "execution_count": 12,
     "metadata": {},
     "output_type": "execute_result"
    }
   ],
   "source": [
    "labels = kmeans.labels_\n",
    "# here, labels range from 0 to 4 because k = 5\n",
    "\n",
    "labels"
   ]
  },
  {
   "cell_type": "code",
   "execution_count": 13,
   "id": "25a44499",
   "metadata": {},
   "outputs": [
    {
     "data": {
      "text/html": [
       "<div>\n",
       "<style scoped>\n",
       "    .dataframe tbody tr th:only-of-type {\n",
       "        vertical-align: middle;\n",
       "    }\n",
       "\n",
       "    .dataframe tbody tr th {\n",
       "        vertical-align: top;\n",
       "    }\n",
       "\n",
       "    .dataframe thead th {\n",
       "        text-align: right;\n",
       "    }\n",
       "</style>\n",
       "<table border=\"1\" class=\"dataframe\">\n",
       "  <thead>\n",
       "    <tr style=\"text-align: right;\">\n",
       "      <th></th>\n",
       "      <th>Title</th>\n",
       "      <th>Link</th>\n",
       "      <th>Description</th>\n",
       "      <th>Cluster</th>\n",
       "    </tr>\n",
       "  </thead>\n",
       "  <tbody>\n",
       "    <tr>\n",
       "      <th>0</th>\n",
       "      <td>Biden officials must limit contact with social...</td>\n",
       "      <td>https://news.google.com/rss/articles/CBMiLGh0d...</td>\n",
       "      <td>&lt;ol&gt;&lt;li&gt;&lt;a href=\"https://news.google.com/rss/a...</td>\n",
       "      <td>3</td>\n",
       "    </tr>\n",
       "    <tr>\n",
       "      <th>1</th>\n",
       "      <td>Cocaine found in White House sparks brief evac...</td>\n",
       "      <td>https://news.google.com/rss/articles/CBMiMWh0d...</td>\n",
       "      <td>&lt;ol&gt;&lt;li&gt;&lt;a href=\"https://news.google.com/rss/a...</td>\n",
       "      <td>1</td>\n",
       "    </tr>\n",
       "    <tr>\n",
       "      <th>2</th>\n",
       "      <td>The Russia-Ukraine War Changed This Finland Co...</td>\n",
       "      <td>https://news.google.com/rss/articles/CBMiVWh0d...</td>\n",
       "      <td>&lt;a href=\"https://news.google.com/rss/articles/...</td>\n",
       "      <td>1</td>\n",
       "    </tr>\n",
       "    <tr>\n",
       "      <th>3</th>\n",
       "      <td>The killer in one of Philadelphia’s deadliest ...</td>\n",
       "      <td>https://news.google.com/rss/articles/CBMidGh0d...</td>\n",
       "      <td>&lt;ol&gt;&lt;li&gt;&lt;a href=\"https://news.google.com/rss/a...</td>\n",
       "      <td>1</td>\n",
       "    </tr>\n",
       "    <tr>\n",
       "      <th>4</th>\n",
       "      <td>A Solemn Walk Through Highland Park One Year A...</td>\n",
       "      <td>https://news.google.com/rss/articles/CBMiVGh0d...</td>\n",
       "      <td>&lt;ol&gt;&lt;li&gt;&lt;a href=\"https://news.google.com/rss/a...</td>\n",
       "      <td>1</td>\n",
       "    </tr>\n",
       "  </tbody>\n",
       "</table>\n",
       "</div>"
      ],
      "text/plain": [
       "                                               Title  \\\n",
       "0  Biden officials must limit contact with social...   \n",
       "1  Cocaine found in White House sparks brief evac...   \n",
       "2  The Russia-Ukraine War Changed This Finland Co...   \n",
       "3  The killer in one of Philadelphia’s deadliest ...   \n",
       "4  A Solemn Walk Through Highland Park One Year A...   \n",
       "\n",
       "                                                Link  \\\n",
       "0  https://news.google.com/rss/articles/CBMiLGh0d...   \n",
       "1  https://news.google.com/rss/articles/CBMiMWh0d...   \n",
       "2  https://news.google.com/rss/articles/CBMiVWh0d...   \n",
       "3  https://news.google.com/rss/articles/CBMidGh0d...   \n",
       "4  https://news.google.com/rss/articles/CBMiVGh0d...   \n",
       "\n",
       "                                         Description  Cluster  \n",
       "0  <ol><li><a href=\"https://news.google.com/rss/a...        3  \n",
       "1  <ol><li><a href=\"https://news.google.com/rss/a...        1  \n",
       "2  <a href=\"https://news.google.com/rss/articles/...        1  \n",
       "3  <ol><li><a href=\"https://news.google.com/rss/a...        1  \n",
       "4  <ol><li><a href=\"https://news.google.com/rss/a...        1  "
      ]
     },
     "execution_count": 13,
     "metadata": {},
     "output_type": "execute_result"
    }
   ],
   "source": [
    "# now we can finally add the labels for the articles\n",
    "df[\"Cluster\"] = labels\n",
    "\n",
    "df.head()"
   ]
  },
  {
   "cell_type": "code",
   "execution_count": 14,
   "id": "7af32cb4",
   "metadata": {},
   "outputs": [
    {
     "data": {
      "text/plain": [
       "0     2\n",
       "1    23\n",
       "2     1\n",
       "3     1\n",
       "4     1\n",
       "Name: Cluster, dtype: int64"
      ]
     },
     "execution_count": 14,
     "metadata": {},
     "output_type": "execute_result"
    }
   ],
   "source": [
    "cluster_counts = df[\"Cluster\"].value_counts().sort_index()\n",
    "cluster_counts"
   ]
  },
  {
   "attachments": {},
   "cell_type": "markdown",
   "id": "a0cd38e1",
   "metadata": {},
   "source": [
    "# Further\n",
    "- after labelling the news data, \n",
    "- preprocess the labelled data\n",
    "- apply supervised machine learning\n",
    "- predict the labels/output...?"
   ]
  },
  {
   "attachments": {},
   "cell_type": "markdown",
   "id": "72af19f2",
   "metadata": {},
   "source": []
  }
 ],
 "metadata": {
  "kernelspec": {
   "display_name": "Python 3.10.4 64-bit",
   "language": "python",
   "name": "python3"
  },
  "language_info": {
   "codemirror_mode": {
    "name": "ipython",
    "version": 3
   },
   "file_extension": ".py",
   "mimetype": "text/x-python",
   "name": "python",
   "nbconvert_exporter": "python",
   "pygments_lexer": "ipython3",
   "version": "3.10.4"
  },
  "vscode": {
   "interpreter": {
    "hash": "916dbcbb3f70747c44a77c7bcd40155683ae19c65e1c03b4aa3499c5328201f1"
   }
  }
 },
 "nbformat": 4,
 "nbformat_minor": 5
}
