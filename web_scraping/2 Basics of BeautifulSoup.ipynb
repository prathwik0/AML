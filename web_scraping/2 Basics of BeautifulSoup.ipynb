{
 "cells": [
  {
   "attachments": {},
   "cell_type": "markdown",
   "metadata": {},
   "source": [
    "# Introduction to Beaufiful Soup"
   ]
  },
  {
   "cell_type": "code",
   "execution_count": 1,
   "metadata": {},
   "outputs": [],
   "source": [
    "from bs4 import BeautifulSoup\n",
    "\n",
    "# note that you need 3 quotes -> ''' or \"\"\"\n",
    "html_content = \"\"\" <!DOCTYPE html>\n",
    "<html lang=\"en\">\n",
    "<head>\n",
    "    <title>Example.com</title>\n",
    "</head>\n",
    "<body>\n",
    "    <div class=\"my_class\">\n",
    "        <h1>Welcome to BeautifulSopu</h1>\n",
    "        <p>This is a paragraph.</p>\n",
    "        <p>This is another paragraph.</p>\n",
    "        <p>This is the third paragraph.</p>\n",
    "        <ul>\n",
    "            <li>Item 1</li>\n",
    "            <li>Item 2</li>\n",
    "        </ul>\n",
    "    </div>\n",
    "</body>\n",
    "</html> \"\"\"\n",
    "\n",
    "# Create BeautifulSoup parser object\n",
    "soup = BeautifulSoup(html_content, \"html.parser\")"
   ]
  },
  {
   "cell_type": "code",
   "execution_count": 2,
   "metadata": {},
   "outputs": [
    {
     "data": {
      "text/plain": [
       "'Example.com'"
      ]
     },
     "execution_count": 2,
     "metadata": {},
     "output_type": "execute_result"
    }
   ],
   "source": [
    "# Access the title of a specific tag\n",
    "title = soup.title\n",
    "title.text"
   ]
  },
  {
   "cell_type": "code",
   "execution_count": 3,
   "metadata": {},
   "outputs": [
    {
     "data": {
      "text/plain": [
       "'This is a paragraph.'"
      ]
     },
     "execution_count": 3,
     "metadata": {},
     "output_type": "execute_result"
    }
   ],
   "source": [
    "paragraph = soup.p.text\n",
    "paragraph"
   ]
  },
  {
   "attachments": {},
   "cell_type": "markdown",
   "metadata": {},
   "source": [
    "---\n",
    "## Navigating the parse tree\n",
    "### Tag Navigation"
   ]
  },
  {
   "cell_type": "code",
   "execution_count": 4,
   "metadata": {},
   "outputs": [
    {
     "data": {
      "text/plain": [
       "<p>This is a paragraph.</p>"
      ]
     },
     "execution_count": 4,
     "metadata": {},
     "output_type": "execute_result"
    }
   ],
   "source": [
    "# Finding the first paragraph\n",
    "paragraph = soup.find(\"p\")\n",
    "paragraph"
   ]
  },
  {
   "cell_type": "code",
   "execution_count": 5,
   "metadata": {},
   "outputs": [
    {
     "name": "stdout",
     "output_type": "stream",
     "text": [
      "This is a paragraph.\n",
      "This is another paragraph.\n",
      "This is the third paragraph.\n"
     ]
    }
   ],
   "source": [
    "# Finding all the paragraphs and creating an array of paragraph text\n",
    "paragraphs = soup.find_all(\"p\")\n",
    "\n",
    "for para in paragraphs:\n",
    "    print(para.text)\n",
    "\n",
    "# paragraphs = [para.text for para in paragraphs]\n",
    "# paragraphs"
   ]
  },
  {
   "attachments": {},
   "cell_type": "markdown",
   "metadata": {},
   "source": [
    "### Parent and Sibling Navigation"
   ]
  },
  {
   "cell_type": "code",
   "execution_count": 6,
   "metadata": {},
   "outputs": [
    {
     "name": "stdout",
     "output_type": "stream",
     "text": [
      "Parent of H1 is:\n",
      " <div class=\"my_class\">\n",
      "<h1>Welcome to BeautifulSopu</h1>\n",
      "<p>This is a paragraph.</p>\n",
      "<p>This is another paragraph.</p>\n",
      "<p>This is the third paragraph.</p>\n",
      "<ul>\n",
      "<li>Item 1</li>\n",
      "<li>Item 2</li>\n",
      "</ul>\n",
      "</div>\n"
     ]
    }
   ],
   "source": [
    "element = soup.h1\n",
    "parent_element = element.parent\n",
    "print(\"Parent of H1 is:\\n\", parent_element)"
   ]
  },
  {
   "cell_type": "code",
   "execution_count": 7,
   "metadata": {},
   "outputs": [
    {
     "name": "stdout",
     "output_type": "stream",
     "text": [
      "Previous sibling element of <h1>:\n",
      " None\n"
     ]
    }
   ],
   "source": [
    "previous_sibling = soup.h1.find_previous_sibling()\n",
    "print(\"Previous sibling element of <h1>:\\n\", previous_sibling)"
   ]
  },
  {
   "cell_type": "code",
   "execution_count": 8,
   "metadata": {},
   "outputs": [
    {
     "name": "stdout",
     "output_type": "stream",
     "text": [
      "Previous sibling element of <p>:\n",
      " <h1>Welcome to BeautifulSopu</h1>\n"
     ]
    }
   ],
   "source": [
    "previous_sibling = soup.p.find_previous_sibling()\n",
    "print(\"Previous sibling element of <p>:\\n\", previous_sibling)"
   ]
  },
  {
   "cell_type": "code",
   "execution_count": 9,
   "metadata": {},
   "outputs": [
    {
     "name": "stdout",
     "output_type": "stream",
     "text": [
      "Next sibling element of <h1>:\n",
      " <p>This is a paragraph.</p>\n"
     ]
    }
   ],
   "source": [
    "next_sibling = soup.h1.find_next_sibling()\n",
    "print(\"Next sibling element of <h1>:\\n\", next_sibling)"
   ]
  },
  {
   "cell_type": "code",
   "execution_count": 10,
   "metadata": {},
   "outputs": [
    {
     "name": "stdout",
     "output_type": "stream",
     "text": [
      "Next sibling element of <ul>:\n",
      " None\n"
     ]
    }
   ],
   "source": [
    "next_sibling = soup.ul.find_next_sibling()\n",
    "print(\"Next sibling element of <ul>:\\n\", next_sibling)"
   ]
  },
  {
   "attachments": {},
   "cell_type": "markdown",
   "metadata": {},
   "source": [
    "### Child Navigation"
   ]
  },
  {
   "cell_type": "code",
   "execution_count": 11,
   "metadata": {},
   "outputs": [
    {
     "name": "stdout",
     "output_type": "stream",
     "text": [
      "Child elements of <div>:\n",
      "\n",
      "\n",
      "<h1>Welcome to BeautifulSopu</h1>\n",
      "\n",
      "\n",
      "<p>This is a paragraph.</p>\n",
      "\n",
      "\n",
      "<p>This is another paragraph.</p>\n",
      "\n",
      "\n",
      "<p>This is the third paragraph.</p>\n",
      "\n",
      "\n",
      "<ul>\n",
      "<li>Item 1</li>\n",
      "<li>Item 2</li>\n",
      "</ul>\n",
      "\n",
      "\n"
     ]
    }
   ],
   "source": [
    "# Accessing the child elements\n",
    "div = soup.div\n",
    "children = div.children\n",
    "\n",
    "print(\"Child elements of <div>:\")\n",
    "for child in children:\n",
    "    print(child)"
   ]
  },
  {
   "attachments": {},
   "cell_type": "markdown",
   "metadata": {},
   "source": [
    "---\n",
    "## Searching by CSS and Class attributes"
   ]
  },
  {
   "cell_type": "code",
   "execution_count": 12,
   "metadata": {},
   "outputs": [
    {
     "data": {
      "text/plain": [
       "[<div class=\"my_class\">\n",
       " <h1>Welcome to BeautifulSopu</h1>\n",
       " <p>This is a paragraph.</p>\n",
       " <p>This is another paragraph.</p>\n",
       " <p>This is the third paragraph.</p>\n",
       " <ul>\n",
       " <li>Item 1</li>\n",
       " <li>Item 2</li>\n",
       " </ul>\n",
       " </div>]"
      ]
     },
     "execution_count": 12,
     "metadata": {},
     "output_type": "execute_result"
    }
   ],
   "source": [
    "elements = soup.find_all(\"div\", class_=\"my_class\")\n",
    "elements"
   ]
  },
  {
   "attachments": {},
   "cell_type": "markdown",
   "metadata": {},
   "source": [
    "---"
   ]
  }
 ],
 "metadata": {
  "kernelspec": {
   "display_name": "web_scraping",
   "language": "python",
   "name": "python3"
  },
  "language_info": {
   "codemirror_mode": {
    "name": "ipython",
    "version": 3
   },
   "file_extension": ".py",
   "mimetype": "text/x-python",
   "name": "python",
   "nbconvert_exporter": "python",
   "pygments_lexer": "ipython3",
   "version": "3.10.11"
  },
  "orig_nbformat": 4
 },
 "nbformat": 4,
 "nbformat_minor": 2
}
