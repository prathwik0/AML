{
 "cells": [
  {
   "cell_type": "code",
   "execution_count": 1,
   "id": "b7fe1dad",
   "metadata": {},
   "outputs": [
    {
     "name": "stdout",
     "output_type": "stream",
     "text": [
      "Collecting pandas\n",
      "  Using cached pandas-2.0.1-cp39-cp39-manylinux_2_17_x86_64.manylinux2014_x86_64.whl (12.4 MB)\n",
      "Collecting numpy>=1.20.3\n",
      "  Using cached numpy-1.24.3-cp39-cp39-manylinux_2_17_x86_64.manylinux2014_x86_64.whl (17.3 MB)\n",
      "Requirement already satisfied: python-dateutil>=2.8.2 in /home/student/.conda/envs/aml_4nm21ai053/lib/python3.9/site-packages (from pandas) (2.8.2)\n",
      "Collecting tzdata>=2022.1\n",
      "  Using cached tzdata-2023.3-py2.py3-none-any.whl (341 kB)\n",
      "Collecting pytz>=2020.1\n",
      "  Using cached pytz-2023.3-py2.py3-none-any.whl (502 kB)\n",
      "Requirement already satisfied: six>=1.5 in /home/student/.conda/envs/aml_4nm21ai053/lib/python3.9/site-packages (from python-dateutil>=2.8.2->pandas) (1.16.0)\n",
      "Installing collected packages: pytz, tzdata, numpy, pandas\n",
      "\u001b[31mERROR: pip's dependency resolver does not currently take into account all the packages that are installed. This behaviour is the source of the following dependency conflicts.\n",
      "tensorflow 2.11.0 requires grpcio<2.0,>=1.24.3, which is not installed.\n",
      "tensorflow 2.11.0 requires h5py>=2.9.0, which is not installed.\n",
      "tensorflow 2.11.0 requires protobuf<3.20,>=3.9.2, which is not installed.\n",
      "tensorflow 2.11.0 requires wrapt>=1.11.0, which is not installed.\n",
      "tensorboard 2.11.2 requires google-auth<3,>=1.6.3, which is not installed.\n",
      "tensorboard 2.11.2 requires grpcio>=1.24.3, which is not installed.\n",
      "tensorboard 2.11.2 requires markdown>=2.6.8, which is not installed.\n",
      "tensorboard 2.11.2 requires protobuf<4,>=3.9.2, which is not installed.\n",
      "tensorboard 2.11.2 requires requests<3,>=2.21.0, which is not installed.\n",
      "tensorboard 2.11.2 requires werkzeug>=1.0.1, which is not installed.\n",
      "scikit-image 0.19.3 requires imageio>=2.4.1, which is not installed.\n",
      "scikit-image 0.19.3 requires networkx>=2.2, which is not installed.\n",
      "scikit-image 0.19.3 requires pillow!=7.1.0,!=7.1.1,!=8.3.0,>=6.1.0, which is not installed.\n",
      "scikit-image 0.19.3 requires PyWavelets>=1.1.1, which is not installed.\n",
      "scikit-image 0.19.3 requires scipy>=1.4.1, which is not installed.\n",
      "scikit-image 0.19.3 requires tifffile>=2019.7.26, which is not installed.\n",
      "mlxtend 0.21.0 requires joblib>=0.13.2, which is not installed.\n",
      "mlxtend 0.21.0 requires matplotlib>=3.0.0, which is not installed.\n",
      "mlxtend 0.21.0 requires scikit-learn>=1.0.2, which is not installed.\n",
      "mlxtend 0.21.0 requires scipy>=1.2.1, which is not installed.\u001b[0m\u001b[31m\n",
      "\u001b[0mSuccessfully installed numpy-1.24.3 pandas-2.0.1 pytz-2023.3 tzdata-2023.3\n",
      "Note: you may need to restart the kernel to use updated packages.\n"
     ]
    }
   ],
   "source": [
    "pip install pandas"
   ]
  },
  {
   "cell_type": "code",
   "execution_count": 2,
   "id": "f624175c",
   "metadata": {},
   "outputs": [
    {
     "name": "stdout",
     "output_type": "stream",
     "text": [
      "Requirement already satisfied: numpy in /home/student/.conda/envs/aml_4nm21ai053/lib/python3.9/site-packages (1.24.3)\n",
      "Note: you may need to restart the kernel to use updated packages.\n"
     ]
    }
   ],
   "source": [
    "pip install numpy"
   ]
  },
  {
   "cell_type": "code",
   "execution_count": 3,
   "id": "69462470",
   "metadata": {},
   "outputs": [
    {
     "name": "stdout",
     "output_type": "stream",
     "text": [
      "Requirement already satisfied: pandas in /home/student/.conda/envs/aml_4nm21ai053/lib/python3.9/site-packages (2.0.1)\n",
      "Requirement already satisfied: python-dateutil>=2.8.2 in /home/student/.conda/envs/aml_4nm21ai053/lib/python3.9/site-packages (from pandas) (2.8.2)\n",
      "Requirement already satisfied: tzdata>=2022.1 in /home/student/.conda/envs/aml_4nm21ai053/lib/python3.9/site-packages (from pandas) (2023.3)\n",
      "Requirement already satisfied: pytz>=2020.1 in /home/student/.conda/envs/aml_4nm21ai053/lib/python3.9/site-packages (from pandas) (2023.3)\n",
      "Requirement already satisfied: numpy>=1.20.3 in /home/student/.conda/envs/aml_4nm21ai053/lib/python3.9/site-packages (from pandas) (1.24.3)\n",
      "Requirement already satisfied: six>=1.5 in /home/student/.conda/envs/aml_4nm21ai053/lib/python3.9/site-packages (from python-dateutil>=2.8.2->pandas) (1.16.0)\n",
      "Note: you may need to restart the kernel to use updated packages.\n"
     ]
    }
   ],
   "source": [
    "pip install pandas"
   ]
  },
  {
   "cell_type": "code",
   "execution_count": 5,
   "id": "f6005e45",
   "metadata": {},
   "outputs": [
    {
     "name": "stdout",
     "output_type": "stream",
     "text": [
      "Requirement already satisfied: seaborn in /home/student/.conda/envs/aml_4nm21ai053/lib/python3.9/site-packages (0.12.2)\n",
      "Requirement already satisfied: numpy!=1.24.0,>=1.17 in /home/student/.conda/envs/aml_4nm21ai053/lib/python3.9/site-packages (from seaborn) (1.24.3)\n",
      "Requirement already satisfied: matplotlib!=3.6.1,>=3.1 in /home/student/.conda/envs/aml_4nm21ai053/lib/python3.9/site-packages (from seaborn) (3.7.1)\n",
      "Requirement already satisfied: pandas>=0.25 in /home/student/.conda/envs/aml_4nm21ai053/lib/python3.9/site-packages (from seaborn) (2.0.1)\n",
      "Requirement already satisfied: pillow>=6.2.0 in /home/student/.conda/envs/aml_4nm21ai053/lib/python3.9/site-packages (from matplotlib!=3.6.1,>=3.1->seaborn) (9.5.0)\n",
      "Requirement already satisfied: pyparsing>=2.3.1 in /home/student/.conda/envs/aml_4nm21ai053/lib/python3.9/site-packages (from matplotlib!=3.6.1,>=3.1->seaborn) (3.0.9)\n",
      "Requirement already satisfied: packaging>=20.0 in /home/student/.conda/envs/aml_4nm21ai053/lib/python3.9/site-packages (from matplotlib!=3.6.1,>=3.1->seaborn) (23.0)\n",
      "Requirement already satisfied: cycler>=0.10 in /home/student/.conda/envs/aml_4nm21ai053/lib/python3.9/site-packages (from matplotlib!=3.6.1,>=3.1->seaborn) (0.11.0)\n",
      "Requirement already satisfied: python-dateutil>=2.7 in /home/student/.conda/envs/aml_4nm21ai053/lib/python3.9/site-packages (from matplotlib!=3.6.1,>=3.1->seaborn) (2.8.2)\n",
      "Requirement already satisfied: contourpy>=1.0.1 in /home/student/.conda/envs/aml_4nm21ai053/lib/python3.9/site-packages (from matplotlib!=3.6.1,>=3.1->seaborn) (1.0.7)\n",
      "Requirement already satisfied: importlib-resources>=3.2.0 in /home/student/.conda/envs/aml_4nm21ai053/lib/python3.9/site-packages (from matplotlib!=3.6.1,>=3.1->seaborn) (5.12.0)\n",
      "Requirement already satisfied: fonttools>=4.22.0 in /home/student/.conda/envs/aml_4nm21ai053/lib/python3.9/site-packages (from matplotlib!=3.6.1,>=3.1->seaborn) (4.39.4)\n",
      "Requirement already satisfied: kiwisolver>=1.0.1 in /home/student/.conda/envs/aml_4nm21ai053/lib/python3.9/site-packages (from matplotlib!=3.6.1,>=3.1->seaborn) (1.4.4)\n",
      "Requirement already satisfied: pytz>=2020.1 in /home/student/.conda/envs/aml_4nm21ai053/lib/python3.9/site-packages (from pandas>=0.25->seaborn) (2023.3)\n",
      "Requirement already satisfied: tzdata>=2022.1 in /home/student/.conda/envs/aml_4nm21ai053/lib/python3.9/site-packages (from pandas>=0.25->seaborn) (2023.3)\n",
      "Requirement already satisfied: zipp>=3.1.0 in /home/student/.conda/envs/aml_4nm21ai053/lib/python3.9/site-packages (from importlib-resources>=3.2.0->matplotlib!=3.6.1,>=3.1->seaborn) (3.11.0)\n",
      "Requirement already satisfied: six>=1.5 in /home/student/.conda/envs/aml_4nm21ai053/lib/python3.9/site-packages (from python-dateutil>=2.7->matplotlib!=3.6.1,>=3.1->seaborn) (1.16.0)\n",
      "Note: you may need to restart the kernel to use updated packages.\n"
     ]
    }
   ],
   "source": [
    "pip install seaborn"
   ]
  },
  {
   "cell_type": "code",
   "execution_count": 6,
   "id": "6a7f57d4",
   "metadata": {},
   "outputs": [
    {
     "name": "stdout",
     "output_type": "stream",
     "text": [
      "Requirement already satisfied: matplotlib in /home/student/.conda/envs/aml_4nm21ai053/lib/python3.9/site-packages (3.7.1)\n",
      "Requirement already satisfied: packaging>=20.0 in /home/student/.conda/envs/aml_4nm21ai053/lib/python3.9/site-packages (from matplotlib) (23.0)\n",
      "Requirement already satisfied: python-dateutil>=2.7 in /home/student/.conda/envs/aml_4nm21ai053/lib/python3.9/site-packages (from matplotlib) (2.8.2)\n",
      "Requirement already satisfied: pillow>=6.2.0 in /home/student/.conda/envs/aml_4nm21ai053/lib/python3.9/site-packages (from matplotlib) (9.5.0)\n",
      "Requirement already satisfied: importlib-resources>=3.2.0 in /home/student/.conda/envs/aml_4nm21ai053/lib/python3.9/site-packages (from matplotlib) (5.12.0)\n",
      "Requirement already satisfied: numpy>=1.20 in /home/student/.conda/envs/aml_4nm21ai053/lib/python3.9/site-packages (from matplotlib) (1.24.3)\n",
      "Requirement already satisfied: contourpy>=1.0.1 in /home/student/.conda/envs/aml_4nm21ai053/lib/python3.9/site-packages (from matplotlib) (1.0.7)\n",
      "Requirement already satisfied: cycler>=0.10 in /home/student/.conda/envs/aml_4nm21ai053/lib/python3.9/site-packages (from matplotlib) (0.11.0)\n",
      "Requirement already satisfied: kiwisolver>=1.0.1 in /home/student/.conda/envs/aml_4nm21ai053/lib/python3.9/site-packages (from matplotlib) (1.4.4)\n",
      "Requirement already satisfied: fonttools>=4.22.0 in /home/student/.conda/envs/aml_4nm21ai053/lib/python3.9/site-packages (from matplotlib) (4.39.4)\n",
      "Requirement already satisfied: pyparsing>=2.3.1 in /home/student/.conda/envs/aml_4nm21ai053/lib/python3.9/site-packages (from matplotlib) (3.0.9)\n",
      "Requirement already satisfied: zipp>=3.1.0 in /home/student/.conda/envs/aml_4nm21ai053/lib/python3.9/site-packages (from importlib-resources>=3.2.0->matplotlib) (3.11.0)\n",
      "Requirement already satisfied: six>=1.5 in /home/student/.conda/envs/aml_4nm21ai053/lib/python3.9/site-packages (from python-dateutil>=2.7->matplotlib) (1.16.0)\n",
      "Note: you may need to restart the kernel to use updated packages.\n"
     ]
    }
   ],
   "source": [
    "pip install matplotlib"
   ]
  },
  {
   "cell_type": "code",
   "execution_count": 8,
   "id": "12228f4c",
   "metadata": {},
   "outputs": [
    {
     "name": "stdout",
     "output_type": "stream",
     "text": [
      "Collecting scikit-learn\n",
      "  Using cached scikit_learn-1.2.2-cp39-cp39-manylinux_2_17_x86_64.manylinux2014_x86_64.whl (9.6 MB)\n",
      "Collecting scipy>=1.3.2\n",
      "  Using cached scipy-1.10.1-cp39-cp39-manylinux_2_17_x86_64.manylinux2014_x86_64.whl (34.5 MB)\n",
      "Collecting threadpoolctl>=2.0.0\n",
      "  Using cached threadpoolctl-3.1.0-py3-none-any.whl (14 kB)\n",
      "Requirement already satisfied: numpy>=1.17.3 in /home/student/.conda/envs/aml_4nm21ai053/lib/python3.9/site-packages (from scikit-learn) (1.24.3)\n",
      "Collecting joblib>=1.1.1\n",
      "  Using cached joblib-1.2.0-py3-none-any.whl (297 kB)\n",
      "Installing collected packages: threadpoolctl, scipy, joblib, scikit-learn\n",
      "\u001b[31mERROR: pip's dependency resolver does not currently take into account all the packages that are installed. This behaviour is the source of the following dependency conflicts.\n",
      "scikit-image 0.19.3 requires imageio>=2.4.1, which is not installed.\n",
      "scikit-image 0.19.3 requires networkx>=2.2, which is not installed.\n",
      "scikit-image 0.19.3 requires PyWavelets>=1.1.1, which is not installed.\n",
      "scikit-image 0.19.3 requires tifffile>=2019.7.26, which is not installed.\u001b[0m\u001b[31m\n",
      "\u001b[0mSuccessfully installed joblib-1.2.0 scikit-learn-1.2.2 scipy-1.10.1 threadpoolctl-3.1.0\n",
      "Note: you may need to restart the kernel to use updated packages.\n"
     ]
    }
   ],
   "source": [
    "pip install scikit-learn"
   ]
  },
  {
   "cell_type": "code",
   "execution_count": 11,
   "id": "345da140",
   "metadata": {},
   "outputs": [
    {
     "name": "stdout",
     "output_type": "stream",
     "text": [
      "Requirement already satisfied: joblib in /home/student/.conda/envs/aml_4nm21ai053/lib/python3.9/site-packages (1.2.0)\n",
      "Note: you may need to restart the kernel to use updated packages.\n"
     ]
    }
   ],
   "source": [
    "pip install joblib"
   ]
  },
  {
   "cell_type": "code",
   "execution_count": null,
   "id": "722e9b82",
   "metadata": {},
   "outputs": [],
   "source": []
  }
 ],
 "metadata": {
  "kernelspec": {
   "display_name": "Python 3 (ipykernel)",
   "language": "python",
   "name": "python3"
  },
  "language_info": {
   "codemirror_mode": {
    "name": "ipython",
    "version": 3
   },
   "file_extension": ".py",
   "mimetype": "text/x-python",
   "name": "python",
   "nbconvert_exporter": "python",
   "pygments_lexer": "ipython3",
   "version": "3.9.16"
  }
 },
 "nbformat": 4,
 "nbformat_minor": 5
}
